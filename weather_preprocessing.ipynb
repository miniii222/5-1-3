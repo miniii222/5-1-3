{
 "cells": [
  {
   "cell_type": "markdown",
   "metadata": {},
   "source": [
    "# 노원구"
   ]
  },
  {
   "cell_type": "code",
   "execution_count": 1,
   "metadata": {},
   "outputs": [
    {
     "data": {
      "text/plain": [
       "22"
      ]
     },
     "execution_count": 1,
     "metadata": {},
     "output_type": "execute_result"
    }
   ],
   "source": [
    "import pandas as pd\n",
    "import numpy as np\n",
    "import os,glob\n",
    "import warnings\n",
    "warnings.filterwarnings('ignore')\n",
    "\n",
    "file_list = os.listdir('./환경기상데이터/노원구')\n",
    "len(file_list)"
   ]
  },
  {
   "cell_type": "code",
   "execution_count": 2,
   "metadata": {},
   "outputs": [],
   "source": [
    "nowon = pd.DataFrame()\n",
    "for file in file_list :\n",
    "    path = './환경기상데이터/노원구/'\n",
    "    f1 = pd.read_csv(path + file)\n",
    "    f1.drop(['Unnamed: 10'],axis=1,inplace=True)\n",
    "    nowon = pd.concat([nowon, f1])"
   ]
  },
  {
   "cell_type": "code",
   "execution_count": 15,
   "metadata": {},
   "outputs": [
    {
     "name": "stdout",
     "output_type": "stream",
     "text": [
      "dataset shape : (8580960, 11)\n"
     ]
    },
    {
     "data": {
      "text/html": [
       "<div>\n",
       "<style scoped>\n",
       "    .dataframe tbody tr th:only-of-type {\n",
       "        vertical-align: middle;\n",
       "    }\n",
       "\n",
       "    .dataframe tbody tr th {\n",
       "        vertical-align: top;\n",
       "    }\n",
       "\n",
       "    .dataframe thead th {\n",
       "        text-align: right;\n",
       "    }\n",
       "</style>\n",
       "<table border=\"1\" class=\"dataframe\">\n",
       "  <thead>\n",
       "    <tr style=\"text-align: right;\">\n",
       "      <th></th>\n",
       "      <th>tm</th>\n",
       "      <th>serial</th>\n",
       "      <th>flag</th>\n",
       "      <th>pm10</th>\n",
       "      <th>co2</th>\n",
       "      <th>vocs</th>\n",
       "      <th>noise</th>\n",
       "      <th>temp</th>\n",
       "      <th>humi</th>\n",
       "      <th>pm25</th>\n",
       "      <th>GU_CD</th>\n",
       "    </tr>\n",
       "  </thead>\n",
       "  <tbody>\n",
       "    <tr>\n",
       "      <th>0</th>\n",
       "      <td>201804090000</td>\n",
       "      <td>V10O1610351</td>\n",
       "      <td>-999</td>\n",
       "      <td>-999</td>\n",
       "      <td>-999</td>\n",
       "      <td>-999</td>\n",
       "      <td>-999</td>\n",
       "      <td>-999.0</td>\n",
       "      <td>-999</td>\n",
       "      <td>NaN</td>\n",
       "      <td>350</td>\n",
       "    </tr>\n",
       "    <tr>\n",
       "      <th>1</th>\n",
       "      <td>201804090001</td>\n",
       "      <td>V10O1610351</td>\n",
       "      <td>-999</td>\n",
       "      <td>-999</td>\n",
       "      <td>-999</td>\n",
       "      <td>-999</td>\n",
       "      <td>-999</td>\n",
       "      <td>-999.0</td>\n",
       "      <td>-999</td>\n",
       "      <td>NaN</td>\n",
       "      <td>350</td>\n",
       "    </tr>\n",
       "  </tbody>\n",
       "</table>\n",
       "</div>"
      ],
      "text/plain": [
       "             tm       serial  flag  pm10  co2  vocs  noise   temp  humi  pm25  \\\n",
       "0  201804090000  V10O1610351  -999  -999 -999  -999   -999 -999.0  -999   NaN   \n",
       "1  201804090001  V10O1610351  -999  -999 -999  -999   -999 -999.0  -999   NaN   \n",
       "\n",
       "   GU_CD  \n",
       "0    350  \n",
       "1    350  "
      ]
     },
     "execution_count": 15,
     "metadata": {},
     "output_type": "execute_result"
    }
   ],
   "source": [
    "print('dataset shape :',nowon.shape)\n",
    "nowon.head(2)"
   ]
  },
  {
   "cell_type": "code",
   "execution_count": 38,
   "metadata": {},
   "outputs": [
    {
     "data": {
      "text/plain": [
       "tm              0\n",
       "serial          0\n",
       "flag       151925\n",
       "pm10       170529\n",
       "co2       8580960\n",
       "vocs      8580960\n",
       "noise      155634\n",
       "temp       155634\n",
       "humi       155634\n",
       "pm25       170529\n",
       "GU_CD           0\n",
       "dtype: int64"
      ]
     },
     "execution_count": 38,
     "metadata": {},
     "output_type": "execute_result"
    }
   ],
   "source": [
    "nowon = nowon.replace(-999,np.nan)\n",
    "nowon = nowon.replace(-9999,np.nan)\n",
    "nowon.isna().sum()"
   ]
  },
  {
   "cell_type": "code",
   "execution_count": 29,
   "metadata": {},
   "outputs": [
    {
     "data": {
      "text/plain": [
       "1.0    8429035\n",
       "Name: flag, dtype: int64"
      ]
     },
     "execution_count": 29,
     "metadata": {},
     "output_type": "execute_result"
    }
   ],
   "source": [
    "nowon.flag.value_counts()"
   ]
  },
  {
   "cell_type": "code",
   "execution_count": 52,
   "metadata": {},
   "outputs": [],
   "source": [
    "nowon.drop(['flag','co2','vocs'],axis=1,inplace=True)"
   ]
  },
  {
   "cell_type": "markdown",
   "metadata": {},
   "source": [
    "# 동별로 median으로 대체"
   ]
  },
  {
   "cell_type": "code",
   "execution_count": 3,
   "metadata": {},
   "outputs": [
    {
     "data": {
      "text/html": [
       "<div>\n",
       "<style scoped>\n",
       "    .dataframe tbody tr th:only-of-type {\n",
       "        vertical-align: middle;\n",
       "    }\n",
       "\n",
       "    .dataframe tbody tr th {\n",
       "        vertical-align: top;\n",
       "    }\n",
       "\n",
       "    .dataframe thead th {\n",
       "        text-align: right;\n",
       "    }\n",
       "</style>\n",
       "<table border=\"1\" class=\"dataframe\">\n",
       "  <thead>\n",
       "    <tr style=\"text-align: right;\">\n",
       "      <th></th>\n",
       "      <th>serial</th>\n",
       "      <th>dong</th>\n",
       "      <th>DONG_CD</th>\n",
       "      <th>GU_CD</th>\n",
       "    </tr>\n",
       "  </thead>\n",
       "  <tbody>\n",
       "    <tr>\n",
       "      <th>0</th>\n",
       "      <td>V10O1610629</td>\n",
       "      <td>공릉1동</td>\n",
       "      <td>595</td>\n",
       "      <td>350</td>\n",
       "    </tr>\n",
       "    <tr>\n",
       "      <th>1</th>\n",
       "      <td>V10O1610630</td>\n",
       "      <td>공릉1동</td>\n",
       "      <td>595</td>\n",
       "      <td>350</td>\n",
       "    </tr>\n",
       "  </tbody>\n",
       "</table>\n",
       "</div>"
      ],
      "text/plain": [
       "        serial  dong  DONG_CD  GU_CD\n",
       "0  V10O1610629  공릉1동      595    350\n",
       "1  V10O1610630  공릉1동      595    350"
      ]
     },
     "execution_count": 3,
     "metadata": {},
     "output_type": "execute_result"
    }
   ],
   "source": [
    "dong_df = pd.read_csv('dong_code.csv',encoding='utf-8')\n",
    "dong_df.head(2)"
   ]
  },
  {
   "cell_type": "code",
   "execution_count": null,
   "metadata": {},
   "outputs": [],
   "source": [
    "nowon = pd.merge(nowon,dong_df.drop(['dong','GU_CD'],axis=1),on='serial')"
   ]
  },
  {
   "cell_type": "code",
   "execution_count": 69,
   "metadata": {},
   "outputs": [],
   "source": [
    "def make_date(tm):\n",
    "    return(str(tm)[0:10])\n",
    "nowon['HOUR_DT'] = nowon['tm'].apply(lambda x: make_date(x))"
   ]
  },
  {
   "cell_type": "code",
   "execution_count": 73,
   "metadata": {},
   "outputs": [
    {
     "data": {
      "text/plain": [
       "Index(['tm', 'serial', 'pm10', 'noise', 'temp', 'humi', 'pm25', 'GU_CD',\n",
       "       'DONG_CD', 'HOUR_DT'],\n",
       "      dtype='object')"
      ]
     },
     "execution_count": 73,
     "metadata": {},
     "output_type": "execute_result"
    }
   ],
   "source": [
    "nowon.columns"
   ]
  },
  {
   "cell_type": "code",
   "execution_count": 72,
   "metadata": {},
   "outputs": [
    {
     "data": {
      "text/html": [
       "<div>\n",
       "<style scoped>\n",
       "    .dataframe tbody tr th:only-of-type {\n",
       "        vertical-align: middle;\n",
       "    }\n",
       "\n",
       "    .dataframe tbody tr th {\n",
       "        vertical-align: top;\n",
       "    }\n",
       "\n",
       "    .dataframe thead th {\n",
       "        text-align: right;\n",
       "    }\n",
       "</style>\n",
       "<table border=\"1\" class=\"dataframe\">\n",
       "  <thead>\n",
       "    <tr style=\"text-align: right;\">\n",
       "      <th></th>\n",
       "      <th>DONG_CD</th>\n",
       "      <th>HOUR_DT</th>\n",
       "      <th>pm25</th>\n",
       "    </tr>\n",
       "  </thead>\n",
       "  <tbody>\n",
       "    <tr>\n",
       "      <th>0</th>\n",
       "      <td>560</td>\n",
       "      <td>2018040100</td>\n",
       "      <td>24.0</td>\n",
       "    </tr>\n",
       "    <tr>\n",
       "      <th>1</th>\n",
       "      <td>560</td>\n",
       "      <td>2018040101</td>\n",
       "      <td>28.0</td>\n",
       "    </tr>\n",
       "  </tbody>\n",
       "</table>\n",
       "</div>"
      ],
      "text/plain": [
       "   DONG_CD     HOUR_DT  pm25\n",
       "0      560  2018040100  24.0\n",
       "1      560  2018040101  28.0"
      ]
     },
     "execution_count": 72,
     "metadata": {},
     "output_type": "execute_result"
    }
   ],
   "source": [
    "pm25_df = nowon.groupby(['DONG_CD','HOUR_DT'], as_index=False)['pm25'].median()\n",
    "pm25_df.head(2)"
   ]
  },
  {
   "cell_type": "code",
   "execution_count": 75,
   "metadata": {},
   "outputs": [],
   "source": [
    "pm10_df = nowon.groupby(['DONG_CD','HOUR_DT'], as_index=False)['pm10'].median()\n",
    "noise_df = nowon.groupby(['DONG_CD','HOUR_DT'], as_index=False)['noise'].median()\n",
    "temp_df = nowon.groupby(['DONG_CD','HOUR_DT'], as_index=False)['temp'].median()\n",
    "humi_df = nowon.groupby(['DONG_CD','HOUR_DT'], as_index=False)['humi'].median()"
   ]
  },
  {
   "cell_type": "code",
   "execution_count": 79,
   "metadata": {},
   "outputs": [
    {
     "data": {
      "text/html": [
       "<div>\n",
       "<style scoped>\n",
       "    .dataframe tbody tr th:only-of-type {\n",
       "        vertical-align: middle;\n",
       "    }\n",
       "\n",
       "    .dataframe tbody tr th {\n",
       "        vertical-align: top;\n",
       "    }\n",
       "\n",
       "    .dataframe thead th {\n",
       "        text-align: right;\n",
       "    }\n",
       "</style>\n",
       "<table border=\"1\" class=\"dataframe\">\n",
       "  <thead>\n",
       "    <tr style=\"text-align: right;\">\n",
       "      <th></th>\n",
       "      <th>DONG_CD</th>\n",
       "      <th>HOUR_DT</th>\n",
       "      <th>pm10</th>\n",
       "      <th>pm25</th>\n",
       "      <th>temp</th>\n",
       "      <th>humi</th>\n",
       "      <th>noise</th>\n",
       "      <th>GU_CD</th>\n",
       "    </tr>\n",
       "  </thead>\n",
       "  <tbody>\n",
       "    <tr>\n",
       "      <th>0</th>\n",
       "      <td>560</td>\n",
       "      <td>2018040100</td>\n",
       "      <td>45.0</td>\n",
       "      <td>24.0</td>\n",
       "      <td>14.4</td>\n",
       "      <td>54.0</td>\n",
       "      <td>50.0</td>\n",
       "      <td>350</td>\n",
       "    </tr>\n",
       "    <tr>\n",
       "      <th>1</th>\n",
       "      <td>560</td>\n",
       "      <td>2018040101</td>\n",
       "      <td>49.5</td>\n",
       "      <td>28.0</td>\n",
       "      <td>14.3</td>\n",
       "      <td>55.0</td>\n",
       "      <td>50.0</td>\n",
       "      <td>350</td>\n",
       "    </tr>\n",
       "  </tbody>\n",
       "</table>\n",
       "</div>"
      ],
      "text/plain": [
       "   DONG_CD     HOUR_DT  pm10  pm25  temp  humi  noise  GU_CD\n",
       "0      560  2018040100  45.0  24.0  14.4  54.0   50.0    350\n",
       "1      560  2018040101  49.5  28.0  14.3  55.0   50.0    350"
      ]
     },
     "execution_count": 79,
     "metadata": {},
     "output_type": "execute_result"
    }
   ],
   "source": [
    "final_nowon = pd.merge(pm10_df,pm25_df,on=['DONG_CD','HOUR_DT'])\n",
    "final_nowon = pd.merge(final_nowon,temp_df,on=['DONG_CD','HOUR_DT'])\n",
    "final_nowon = pd.merge(final_nowon,humi_df,on=['DONG_CD','HOUR_DT'])\n",
    "final_nowon = pd.merge(final_nowon,noise_df,on=['DONG_CD','HOUR_DT'])\n",
    "final_nowon['GU_CD']=350\n",
    "final_nowon.head(2)"
   ]
  },
  {
   "cell_type": "code",
   "execution_count": null,
   "metadata": {},
   "outputs": [],
   "source": []
  },
  {
   "cell_type": "code",
   "execution_count": 81,
   "metadata": {},
   "outputs": [
    {
     "name": "stdout",
     "output_type": "stream",
     "text": [
      "시간별 날씨 데이터 : (104688, 8)\n"
     ]
    },
    {
     "data": {
      "text/plain": [
       "DONG_CD       0\n",
       "HOUR_DT       0\n",
       "pm10       1067\n",
       "pm25       1067\n",
       "temp        943\n",
       "humi        943\n",
       "noise       943\n",
       "GU_CD         0\n",
       "dtype: int64"
      ]
     },
     "execution_count": 81,
     "metadata": {},
     "output_type": "execute_result"
    }
   ],
   "source": [
    "print('시간별 날씨 데이터 :', final_nowon.shape)\n",
    "final_nowon.isnull().sum()"
   ]
  },
  {
   "cell_type": "code",
   "execution_count": 91,
   "metadata": {},
   "outputs": [],
   "source": [
    "final_nowon.to_csv('nowongu_median.csv',index=False,encoding='utf-8')"
   ]
  },
  {
   "cell_type": "code",
   "execution_count": 2,
   "metadata": {},
   "outputs": [
    {
     "data": {
      "text/html": [
       "<div>\n",
       "<style scoped>\n",
       "    .dataframe tbody tr th:only-of-type {\n",
       "        vertical-align: middle;\n",
       "    }\n",
       "\n",
       "    .dataframe tbody tr th {\n",
       "        vertical-align: top;\n",
       "    }\n",
       "\n",
       "    .dataframe thead th {\n",
       "        text-align: right;\n",
       "    }\n",
       "</style>\n",
       "<table border=\"1\" class=\"dataframe\">\n",
       "  <thead>\n",
       "    <tr style=\"text-align: right;\">\n",
       "      <th></th>\n",
       "      <th>DONG_CD</th>\n",
       "      <th>HOUR_DT</th>\n",
       "      <th>pm10</th>\n",
       "      <th>pm25</th>\n",
       "      <th>temp</th>\n",
       "      <th>humi</th>\n",
       "      <th>noise</th>\n",
       "      <th>GU_CD</th>\n",
       "    </tr>\n",
       "  </thead>\n",
       "  <tbody>\n",
       "    <tr>\n",
       "      <th>0</th>\n",
       "      <td>560</td>\n",
       "      <td>2018040100</td>\n",
       "      <td>45.0</td>\n",
       "      <td>24.0</td>\n",
       "      <td>14.4</td>\n",
       "      <td>54.0</td>\n",
       "      <td>50.0</td>\n",
       "      <td>350</td>\n",
       "    </tr>\n",
       "    <tr>\n",
       "      <th>1</th>\n",
       "      <td>560</td>\n",
       "      <td>2018040101</td>\n",
       "      <td>49.5</td>\n",
       "      <td>28.0</td>\n",
       "      <td>14.3</td>\n",
       "      <td>55.0</td>\n",
       "      <td>50.0</td>\n",
       "      <td>350</td>\n",
       "    </tr>\n",
       "  </tbody>\n",
       "</table>\n",
       "</div>"
      ],
      "text/plain": [
       "   DONG_CD     HOUR_DT  pm10  pm25  temp  humi  noise  GU_CD\n",
       "0      560  2018040100  45.0  24.0  14.4  54.0   50.0    350\n",
       "1      560  2018040101  49.5  28.0  14.3  55.0   50.0    350"
      ]
     },
     "execution_count": 2,
     "metadata": {},
     "output_type": "execute_result"
    }
   ],
   "source": [
    "nowon = pd.read_csv('nowongu_median.csv',encoding='utf-8')\n",
    "nowon.head(2)"
   ]
  },
  {
   "cell_type": "code",
   "execution_count": 6,
   "metadata": {},
   "outputs": [
    {
     "data": {
      "text/plain": [
       "DONG_CD\n",
       "560      2\n",
       "580    337\n",
       "595     34\n",
       "600     24\n",
       "611    250\n",
       "619      2\n",
       "625    139\n",
       "630    220\n",
       "665      2\n",
       "670      2\n",
       "720     55\n",
       "Name: HOUR_DT, dtype: int64"
      ]
     },
     "execution_count": 6,
     "metadata": {},
     "output_type": "execute_result"
    }
   ],
   "source": [
    "nowon = nowon.sort_values(by='HOUR_DT')\n",
    "na_df = nowon[nowon.pm10.isnull()]\n",
    "na_df.groupby('DONG_CD')['HOUR_DT'].count()"
   ]
  },
  {
   "cell_type": "code",
   "execution_count": 49,
   "metadata": {},
   "outputs": [
    {
     "name": "stdout",
     "output_type": "stream",
     "text": [
      "max pm10 : 1552.0\n",
      "max pm25 : 4104.0\n"
     ]
    },
    {
     "data": {
      "text/plain": [
       "<matplotlib.axes._subplots.AxesSubplot at 0x7f63da143358>"
      ]
     },
     "execution_count": 49,
     "metadata": {},
     "output_type": "execute_result"
    },
    {
     "data": {
      "image/png": "[encoded data removed]",
      "text/plain": [
       "<Figure size 720x216 with 1 Axes>"
      ]
     },
     "metadata": {
      "needs_background": "light"
     },
     "output_type": "display_data"
    }
   ],
   "source": [
    "import matplotlib.pyplot as plt\n",
    "import seaborn as sns\n",
    "print('max pm10 :',nowon['pm10'].max())\n",
    "print('max pm25 :',nowon['pm25'].max())\n",
    "plt.figure(figsize=(10,3))\n",
    "sns.distplot(nowon['pm10'].dropna(axis=0))\n",
    "sns.distplot(nowon['pm25'].dropna(axis=0))"
   ]
  },
  {
   "cell_type": "markdown",
   "metadata": {},
   "source": [
    "# 종로구"
   ]
  },
  {
   "cell_type": "code",
   "execution_count": 3,
   "metadata": {},
   "outputs": [
    {
     "data": {
      "text/plain": [
       "31"
      ]
     },
     "execution_count": 3,
     "metadata": {},
     "output_type": "execute_result"
    }
   ],
   "source": [
    "file_list = os.listdir('./환경기상데이터/종로구')\n",
    "len(file_list)"
   ]
  },
  {
   "cell_type": "code",
   "execution_count": 14,
   "metadata": {},
   "outputs": [
    {
     "name": "stdout",
     "output_type": "stream",
     "text": [
      "dataset shape : (14610240, 10)\n"
     ]
    },
    {
     "data": {
      "text/html": [
       "<div>\n",
       "<style scoped>\n",
       "    .dataframe tbody tr th:only-of-type {\n",
       "        vertical-align: middle;\n",
       "    }\n",
       "\n",
       "    .dataframe tbody tr th {\n",
       "        vertical-align: top;\n",
       "    }\n",
       "\n",
       "    .dataframe thead th {\n",
       "        text-align: right;\n",
       "    }\n",
       "</style>\n",
       "<table border=\"1\" class=\"dataframe\">\n",
       "  <thead>\n",
       "    <tr style=\"text-align: right;\">\n",
       "      <th></th>\n",
       "      <th>tm</th>\n",
       "      <th>serial</th>\n",
       "      <th>flag</th>\n",
       "      <th>pm10</th>\n",
       "      <th>co2</th>\n",
       "      <th>vocs</th>\n",
       "      <th>noise</th>\n",
       "      <th>temp</th>\n",
       "      <th>humi</th>\n",
       "      <th>pm25</th>\n",
       "    </tr>\n",
       "  </thead>\n",
       "  <tbody>\n",
       "    <tr>\n",
       "      <th>0</th>\n",
       "      <td>201804010000</td>\n",
       "      <td>V10O1611658</td>\n",
       "      <td>1</td>\n",
       "      <td>43</td>\n",
       "      <td>-9999</td>\n",
       "      <td>-9999</td>\n",
       "      <td>55</td>\n",
       "      <td>14.0</td>\n",
       "      <td>58</td>\n",
       "      <td>23.0</td>\n",
       "    </tr>\n",
       "    <tr>\n",
       "      <th>1</th>\n",
       "      <td>201804010001</td>\n",
       "      <td>V10O1611658</td>\n",
       "      <td>1</td>\n",
       "      <td>23</td>\n",
       "      <td>-9999</td>\n",
       "      <td>-9999</td>\n",
       "      <td>56</td>\n",
       "      <td>14.0</td>\n",
       "      <td>58</td>\n",
       "      <td>12.0</td>\n",
       "    </tr>\n",
       "  </tbody>\n",
       "</table>\n",
       "</div>"
      ],
      "text/plain": [
       "             tm       serial  flag  pm10   co2  vocs  noise  temp  humi  pm25\n",
       "0  201804010000  V10O1611658     1    43 -9999 -9999     55  14.0    58  23.0\n",
       "1  201804010001  V10O1611658     1    23 -9999 -9999     56  14.0    58  12.0"
      ]
     },
     "execution_count": 14,
     "metadata": {},
     "output_type": "execute_result"
    }
   ],
   "source": [
    "jongro = pd.DataFrame()\n",
    "for file in file_list :\n",
    "    path = './환경기상데이터/종로구/'\n",
    "    f1 = pd.read_csv(path + file)\n",
    "    f1.drop(['Unnamed: 10'],axis=1,inplace=True)\n",
    "    jongro = pd.concat([jongro, f1])\n",
    "    \n",
    "print('dataset shape :',jongro.shape)\n",
    "jongro.head(2)\n",
    "\n",
    "# V10O1611289 천연동 / V10O1611887 명동"
   ]
  },
  {
   "cell_type": "code",
   "execution_count": 15,
   "metadata": {},
   "outputs": [
    {
     "data": {
      "text/plain": [
       "tm               0\n",
       "serial           0\n",
       "flag        571890\n",
       "pm10        595672\n",
       "co2       14610240\n",
       "vocs      14610240\n",
       "noise       580761\n",
       "temp        655491\n",
       "humi        655491\n",
       "pm25        595672\n",
       "dtype: int64"
      ]
     },
     "execution_count": 15,
     "metadata": {},
     "output_type": "execute_result"
    }
   ],
   "source": [
    "jongro = jongro.replace(-999,np.nan)\n",
    "jongro = jongro.replace(-9999,np.nan)\n",
    "jongro.isna().sum()"
   ]
  },
  {
   "cell_type": "code",
   "execution_count": 9,
   "metadata": {},
   "outputs": [
    {
     "data": {
      "text/plain": [
       "1.0    14038350\n",
       "Name: flag, dtype: int64"
      ]
     },
     "execution_count": 9,
     "metadata": {},
     "output_type": "execute_result"
    }
   ],
   "source": [
    "jongro.flag.value_counts()"
   ]
  },
  {
   "cell_type": "code",
   "execution_count": 16,
   "metadata": {},
   "outputs": [],
   "source": [
    "jongro.drop(['flag','co2','vocs'],axis=1,inplace=True)"
   ]
  },
  {
   "cell_type": "markdown",
   "metadata": {},
   "source": [
    "# 동별로 median으로 대체"
   ]
  },
  {
   "cell_type": "code",
   "execution_count": 17,
   "metadata": {},
   "outputs": [],
   "source": [
    "jongro = pd.merge(dong_df.drop(['dong','GU_CD'],axis=1),jongro,on='serial')"
   ]
  },
  {
   "cell_type": "code",
   "execution_count": 20,
   "metadata": {},
   "outputs": [],
   "source": [
    "def make_date(tm):\n",
    "    return(str(tm)[0:10])\n",
    "jongro['HOUR_DT'] = jongro['tm'].apply(lambda x: make_date(x))"
   ]
  },
  {
   "cell_type": "code",
   "execution_count": 21,
   "metadata": {},
   "outputs": [],
   "source": [
    "pm25_df = jongro.groupby(['DONG_CD','HOUR_DT'], as_index=False)['pm25'].median()\n",
    "pm10_df = jongro.groupby(['DONG_CD','HOUR_DT'], as_index=False)['pm10'].median()\n",
    "noise_df = jongro.groupby(['DONG_CD','HOUR_DT'], as_index=False)['noise'].median()\n",
    "temp_df = jongro.groupby(['DONG_CD','HOUR_DT'], as_index=False)['temp'].median()\n",
    "humi_df = jongro.groupby(['DONG_CD','HOUR_DT'], as_index=False)['humi'].median()"
   ]
  },
  {
   "cell_type": "code",
   "execution_count": 22,
   "metadata": {},
   "outputs": [
    {
     "data": {
      "text/html": [
       "<div>\n",
       "<style scoped>\n",
       "    .dataframe tbody tr th:only-of-type {\n",
       "        vertical-align: middle;\n",
       "    }\n",
       "\n",
       "    .dataframe tbody tr th {\n",
       "        vertical-align: top;\n",
       "    }\n",
       "\n",
       "    .dataframe thead th {\n",
       "        text-align: right;\n",
       "    }\n",
       "</style>\n",
       "<table border=\"1\" class=\"dataframe\">\n",
       "  <thead>\n",
       "    <tr style=\"text-align: right;\">\n",
       "      <th></th>\n",
       "      <th>DONG_CD</th>\n",
       "      <th>HOUR_DT</th>\n",
       "      <th>pm10</th>\n",
       "      <th>pm25</th>\n",
       "      <th>temp</th>\n",
       "      <th>humi</th>\n",
       "      <th>noise</th>\n",
       "      <th>GU_CD</th>\n",
       "    </tr>\n",
       "  </thead>\n",
       "  <tbody>\n",
       "    <tr>\n",
       "      <th>0</th>\n",
       "      <td>515</td>\n",
       "      <td>2018040100</td>\n",
       "      <td>49.5</td>\n",
       "      <td>23.0</td>\n",
       "      <td>11.6</td>\n",
       "      <td>67.0</td>\n",
       "      <td>49.0</td>\n",
       "      <td>110</td>\n",
       "    </tr>\n",
       "    <tr>\n",
       "      <th>1</th>\n",
       "      <td>515</td>\n",
       "      <td>2018040101</td>\n",
       "      <td>52.0</td>\n",
       "      <td>20.0</td>\n",
       "      <td>11.5</td>\n",
       "      <td>70.0</td>\n",
       "      <td>49.0</td>\n",
       "      <td>110</td>\n",
       "    </tr>\n",
       "  </tbody>\n",
       "</table>\n",
       "</div>"
      ],
      "text/plain": [
       "   DONG_CD     HOUR_DT  pm10  pm25  temp  humi  noise  GU_CD\n",
       "0      515  2018040100  49.5  23.0  11.6  67.0   49.0    110\n",
       "1      515  2018040101  52.0  20.0  11.5  70.0   49.0    110"
      ]
     },
     "execution_count": 22,
     "metadata": {},
     "output_type": "execute_result"
    }
   ],
   "source": [
    "final_jongro = pd.merge(pm10_df,pm25_df,on=['DONG_CD','HOUR_DT'])\n",
    "final_jongro = pd.merge(final_jongro,temp_df,on=['DONG_CD','HOUR_DT'])\n",
    "final_jongro = pd.merge(final_jongro,humi_df,on=['DONG_CD','HOUR_DT'])\n",
    "final_jongro = pd.merge(final_jongro,noise_df,on=['DONG_CD','HOUR_DT'])\n",
    "final_jongro['GU_CD']=110\n",
    "final_jongro.head(2)"
   ]
  },
  {
   "cell_type": "code",
   "execution_count": 23,
   "metadata": {},
   "outputs": [
    {
     "name": "stdout",
     "output_type": "stream",
     "text": [
      "시간별 날씨 데이터 : (112824, 8)\n"
     ]
    },
    {
     "data": {
      "text/plain": [
       "DONG_CD       0\n",
       "HOUR_DT       0\n",
       "pm10        599\n",
       "pm25        599\n",
       "temp       1660\n",
       "humi       1660\n",
       "noise       496\n",
       "GU_CD         0\n",
       "dtype: int64"
      ]
     },
     "execution_count": 23,
     "metadata": {},
     "output_type": "execute_result"
    }
   ],
   "source": [
    "print('시간별 날씨 데이터 :', final_jongro.shape)\n",
    "final_jongro.isnull().sum()"
   ]
  },
  {
   "cell_type": "code",
   "execution_count": 25,
   "metadata": {},
   "outputs": [],
   "source": [
    "final_jongro.to_csv('jongrogu_median.csv',index=False,encoding='utf-8')"
   ]
  },
  {
   "cell_type": "code",
   "execution_count": 145,
   "metadata": {},
   "outputs": [
    {
     "name": "stdout",
     "output_type": "stream",
     "text": [
      "(112824, 8)\n"
     ]
    },
    {
     "data": {
      "text/plain": [
       "DONG_CD       0\n",
       "HOUR_DT       0\n",
       "pm10        599\n",
       "pm25        599\n",
       "temp       1660\n",
       "humi       1660\n",
       "noise       496\n",
       "GU_CD         0\n",
       "dtype: int64"
      ]
     },
     "execution_count": 145,
     "metadata": {},
     "output_type": "execute_result"
    }
   ],
   "source": [
    "jongro = pd.read_csv('jongrogu_median.csv',encoding='utf-8')\n",
    "print(jongro.shape)\n",
    "jongro.isnull().sum()"
   ]
  },
  {
   "cell_type": "code",
   "execution_count": 149,
   "metadata": {
    "scrolled": true
   },
   "outputs": [
    {
     "data": {
      "text/plain": [
       "DONG_CD      0\n",
       "HOUR_DT      0\n",
       "pm10       118\n",
       "pm25       118\n",
       "temp       118\n",
       "humi       122\n",
       "noise      122\n",
       "GU_CD        0\n",
       "dtype: int64"
      ]
     },
     "execution_count": 149,
     "metadata": {},
     "output_type": "execute_result"
    }
   ],
   "source": [
    "col = ['pm10', 'pm25', 'temp', 'humi', 'noise']\n",
    "\n",
    "for i in range(5) :\n",
    "    jongro[col[i]] = jongro.apply(lambda x: impute_na((i+2), x['DONG_CD'], x['HOUR_DT'],x[col[i]]), axis=1)\n",
    "    \n",
    "jongro.isnull().sum()"
   ]
  },
  {
   "cell_type": "code",
   "execution_count": 151,
   "metadata": {},
   "outputs": [
    {
     "data": {
      "text/plain": [
       "DONG_CD    0\n",
       "HOUR_DT    0\n",
       "pm10       0\n",
       "pm25       0\n",
       "temp       0\n",
       "humi       0\n",
       "noise      0\n",
       "GU_CD      0\n",
       "dtype: int64"
      ]
     },
     "execution_count": 151,
     "metadata": {},
     "output_type": "execute_result"
    }
   ],
   "source": [
    "col = ['pm10', 'pm25', 'temp', 'humi', 'noise']\n",
    "\n",
    "for i in range(5) :\n",
    "    jongro[col[i]] = jongro.apply(lambda x: impute_na2((i+2), x['HOUR_DT'],x[col[i]]), axis=1)\n",
    "    \n",
    "jongro.isnull().sum()"
   ]
  },
  {
   "cell_type": "code",
   "execution_count": 153,
   "metadata": {},
   "outputs": [],
   "source": [
    "jongro.to_csv('jongrogu_median_removena.csv',index=False,encoding='utf-8')"
   ]
  },
  {
   "cell_type": "code",
   "execution_count": null,
   "metadata": {},
   "outputs": [],
   "source": []
  },
  {
   "cell_type": "code",
   "execution_count": null,
   "metadata": {},
   "outputs": [],
   "source": []
  },
  {
   "cell_type": "code",
   "execution_count": 150,
   "metadata": {},
   "outputs": [],
   "source": [
    "def impute_na2(i,time,var):\n",
    "    if np.isnan(var) :\n",
    "        return jongro[jongro['HOUR_DT'].isin([time])].mean()[i]\n",
    "    else : return var     "
   ]
  },
  {
   "cell_type": "code",
   "execution_count": 137,
   "metadata": {},
   "outputs": [],
   "source": [
    "def impute_na(i,dong,time,var):\n",
    "    if np.isnan(var) :\n",
    "        if dong == 600 :\n",
    "            return jongro[(jongro['DONG_CD'].isin([650,615])) & (jongro['HOUR_DT'].isin([time]))].mean()[i]\n",
    "        elif dong == 580 :\n",
    "            return jongro[(jongro['DONG_CD'].isin([530])) & (jongro['HOUR_DT'].isin([time]))].mean()[i]\n",
    "        elif dong==550 :\n",
    "            return jongro[(jongro['DONG_CD'].isin([560,515])) & (jongro['HOUR_DT'].isin([time]))].mean()[i]\n",
    "        elif dong==530 :\n",
    "            return jongro[(jongro['DONG_CD'].isin([580,515,615])) & (jongro['HOUR_DT'].isin([time]))].mean()[i]\n",
    "        elif dong==710 :\n",
    "            return jongro[(jongro['DONG_CD'].isin([670])) & (jongro['HOUR_DT'].isin([time]))].mean()[i]\n",
    "        elif dong==640 :\n",
    "            return jongro[(jongro['DONG_CD'].isin([580,515,615])) & (jongro['HOUR_DT'].isin([time]))].mean()[i]\n",
    "        elif dong==615 :\n",
    "            return jongro[(jongro['DONG_CD'].isin([530,515,630,640])) & (jongro['HOUR_DT'].isin([time]))].mean()[i]\n",
    "        elif dong==670 :\n",
    "            return jongro[(jongro['DONG_CD'].isin([630,690,710])) & (jongro['HOUR_DT'].isin([time]))].mean()[i]\n",
    "        elif dong==690 :\n",
    "            return jongro[(jongro['DONG_CD'].isin([640,630,670])) & (jongro['HOUR_DT'].isin([time]))].mean()[i]\n",
    "        elif dong==515 :\n",
    "            return jongro[(jongro['DONG_CD'].isin([530,550])) & (jongro['HOUR_DT'].isin([time]))].mean()[i]\n",
    "        elif dong==560 :\n",
    "            return jongro[(jongro['DONG_CD'].isin([550])) & (jongro['HOUR_DT'].isin([time]))].mean()[i]\n",
    "        elif dong==650 :\n",
    "            return jongro[(jongro['DONG_CD'].isin([600,615,640])) & (jongro['HOUR_DT'].isin([time]))].mean()[i]\n",
    "    else : return var"
   ]
  },
  {
   "cell_type": "code",
   "execution_count": null,
   "metadata": {},
   "outputs": [],
   "source": []
  },
  {
   "cell_type": "code",
   "execution_count": null,
   "metadata": {},
   "outputs": [],
   "source": []
  }
 ],
 "metadata": {
  "kernelspec": {
   "display_name": "Python 3",
   "language": "python",
   "name": "python3"
  },
  "language_info": {
   "codemirror_mode": {
    "name": "ipython",
    "version": 3
   },
   "file_extension": ".py",
   "mimetype": "text/x-python",
   "name": "python",
   "nbconvert_exporter": "python",
   "pygments_lexer": "ipython3",
   "version": "3.5.2"
  }
 },
 "nbformat": 4,
 "nbformat_minor": 2
}
